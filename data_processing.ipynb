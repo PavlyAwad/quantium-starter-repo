{
 "cells": [
  {
   "cell_type": "code",
   "execution_count": 1,
   "id": "5e0e02cb",
   "metadata": {},
   "outputs": [],
   "source": [
    "import pandas as pd\n",
    "import os"
   ]
  },
  {
   "cell_type": "code",
   "execution_count": 4,
   "id": "1651a99e",
   "metadata": {},
   "outputs": [],
   "source": [
    "data_folder=\"data\"\n",
    "output_file=\"cleaned_data.csv\"\n",
    "\n",
    "csv_files=[os.path.join(data_folder,f\"daily_sales_data_{i}.csv\")for i in range(3)]"
   ]
  },
  {
   "cell_type": "code",
   "execution_count": 6,
   "id": "39f8914f",
   "metadata": {},
   "outputs": [],
   "source": [
    "filtered_dataframes=[]\n",
    "\n",
    "for file in csv_files:\n",
    "    df=pd.read_csv(file)\n",
    "    df=df[df[\"product\"]==\"pink morsel\"]\n",
    "    df[\"sales\"]=df[\"price\"].str.replace(\"$\",\"\").astype(float)*df[\"quantity\"]\n",
    "    df=df[[\"sales\",\"date\",\"region\"]]\n",
    "    filtered_dataframes.append(df)"
   ]
  },
  {
   "cell_type": "code",
   "execution_count": 7,
   "id": "a0265dff",
   "metadata": {},
   "outputs": [
    {
     "name": "stdout",
     "output_type": "stream",
     "text": [
      "Cleaned Data Saved To cleaned_data.csv\n"
     ]
    }
   ],
   "source": [
    "combined_df=pd.concat(filtered_dataframes,ignore_index=True)\n",
    "\n",
    "combined_df.to_csv(output_file,index=False)\n",
    "\n",
    "print(f\"Cleaned Data Saved To {output_file}\")"
   ]
  }
 ],
 "metadata": {
  "kernelspec": {
   "display_name": "venv",
   "language": "python",
   "name": "python3"
  },
  "language_info": {
   "codemirror_mode": {
    "name": "ipython",
    "version": 3
   },
   "file_extension": ".py",
   "mimetype": "text/x-python",
   "name": "python",
   "nbconvert_exporter": "python",
   "pygments_lexer": "ipython3",
   "version": "3.12.2"
  }
 },
 "nbformat": 4,
 "nbformat_minor": 5
}
